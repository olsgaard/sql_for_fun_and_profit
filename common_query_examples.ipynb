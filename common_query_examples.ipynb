{
 "cells": [
  {
   "cell_type": "markdown",
   "id": "ca0216f2",
   "metadata": {},
   "source": [
    "# Examples of Common Queries\n",
    "\n",
    "https://dev.mysql.com/doc/refman/8.0/en/examples.html"
   ]
  },
  {
   "cell_type": "markdown",
   "id": "b6fa3ee0",
   "metadata": {},
   "source": [
    "## 0: Create database and add content"
   ]
  },
  {
   "cell_type": "code",
   "execution_count": 27,
   "id": "a1f25215",
   "metadata": {},
   "outputs": [],
   "source": [
    "%CREATE common_query_example.db common_query_example_db"
   ]
  },
  {
   "cell_type": "code",
   "execution_count": 63,
   "id": "435ba4d4",
   "metadata": {},
   "outputs": [],
   "source": [
    "DROP TABLE IF EXISTS shop;"
   ]
  },
  {
   "cell_type": "code",
   "execution_count": 64,
   "id": "ace33c3d",
   "metadata": {},
   "outputs": [],
   "source": [
    "CREATE TABLE shop (\n",
    "    article INT UNSIGNED  DEFAULT '0000' NOT NULL,\n",
    "    dealer  CHAR(20)      DEFAULT ''     NOT NULL,\n",
    "    price   DECIMAL(16,2) DEFAULT '0.00' NOT NULL,\n",
    "    PRIMARY KEY(article, dealer));"
   ]
  },
  {
   "cell_type": "code",
   "execution_count": 65,
   "id": "89566f1b",
   "metadata": {},
   "outputs": [],
   "source": [
    "INSERT INTO shop VALUES\n",
    "    (1,'A',3.99),(1,'B',3.99),(2,'A',10.99),(3,'B',1.45),\n",
    "    (3,'C',1.69),(3,'D',1.25),(4,'D',19.95),(1,'D',19.95);"
   ]
  },
  {
   "cell_type": "code",
   "execution_count": 66,
   "id": "d974ea4b",
   "metadata": {},
   "outputs": [
    {
     "data": {
      "text/html": [
       "<table>\n",
       "<tr>\n",
       "<th>article</th>\n",
       "<th>dealer</th>\n",
       "<th>price</th>\n",
       "</tr>\n",
       "<tr>\n",
       "<td>1</td>\n",
       "<td>A</td>\n",
       "<td>3.99</td>\n",
       "</tr>\n",
       "<tr>\n",
       "<td>2</td>\n",
       "<td>A</td>\n",
       "<td>10.99</td>\n",
       "</tr>\n",
       "<tr>\n",
       "<td>3</td>\n",
       "<td>B</td>\n",
       "<td>1.45</td>\n",
       "</tr>\n",
       "<tr>\n",
       "<td>1</td>\n",
       "<td>B</td>\n",
       "<td>3.99</td>\n",
       "</tr>\n",
       "<tr>\n",
       "<td>3</td>\n",
       "<td>C</td>\n",
       "<td>1.69</td>\n",
       "</tr>\n",
       "<tr>\n",
       "<td>3</td>\n",
       "<td>D</td>\n",
       "<td>1.25</td>\n",
       "</tr>\n",
       "<tr>\n",
       "<td>4</td>\n",
       "<td>D</td>\n",
       "<td>19.95</td>\n",
       "</tr>\n",
       "<tr>\n",
       "<td>1</td>\n",
       "<td>D</td>\n",
       "<td>19.95</td>\n",
       "</tr>\n",
       "</table>"
      ],
      "text/plain": [
       "+---------+--------+-------+\n",
       "| article | dealer | price |\n",
       "+---------+--------+-------+\n",
       "| 1       | A      | 3.99  |\n",
       "+---------+--------+-------+\n",
       "| 2       | A      | 10.99 |\n",
       "+---------+--------+-------+\n",
       "| 3       | B      | 1.45  |\n",
       "+---------+--------+-------+\n",
       "| 1       | B      | 3.99  |\n",
       "+---------+--------+-------+\n",
       "| 3       | C      | 1.69  |\n",
       "+---------+--------+-------+\n",
       "| 3       | D      | 1.25  |\n",
       "+---------+--------+-------+\n",
       "| 4       | D      | 19.95 |\n",
       "+---------+--------+-------+\n",
       "| 1       | D      | 19.95 |\n",
       "+---------+--------+-------+"
      ]
     },
     "execution_count": 66,
     "metadata": {},
     "output_type": "execute_result"
    }
   ],
   "source": [
    "SELECT * FROM shop ORDER BY dealer, price"
   ]
  },
  {
   "cell_type": "markdown",
   "id": "c6087815",
   "metadata": {},
   "source": [
    "## Rows Holding the Group-wise Maximum of a Certain Column\n",
    "Task: For each dealer, find the max price"
   ]
  },
  {
   "cell_type": "code",
   "execution_count": 71,
   "id": "7a1f8696",
   "metadata": {},
   "outputs": [
    {
     "data": {
      "text/html": [
       "<table>\n",
       "<tr>\n",
       "<th>article</th>\n",
       "<th>dealer</th>\n",
       "<th>price</th>\n",
       "</tr>\n",
       "<tr>\n",
       "<td>1</td>\n",
       "<td>B</td>\n",
       "<td>3.99</td>\n",
       "</tr>\n",
       "<tr>\n",
       "<td>1</td>\n",
       "<td>D</td>\n",
       "<td>19.95</td>\n",
       "</tr>\n",
       "<tr>\n",
       "<td>2</td>\n",
       "<td>A</td>\n",
       "<td>10.99</td>\n",
       "</tr>\n",
       "<tr>\n",
       "<td>3</td>\n",
       "<td>C</td>\n",
       "<td>1.69</td>\n",
       "</tr>\n",
       "<tr>\n",
       "<td>4</td>\n",
       "<td>D</td>\n",
       "<td>19.95</td>\n",
       "</tr>\n",
       "</table>"
      ],
      "text/plain": [
       "+---------+--------+-------+\n",
       "| article | dealer | price |\n",
       "+---------+--------+-------+\n",
       "| 1       | B      | 3.99  |\n",
       "+---------+--------+-------+\n",
       "| 1       | D      | 19.95 |\n",
       "+---------+--------+-------+\n",
       "| 2       | A      | 10.99 |\n",
       "+---------+--------+-------+\n",
       "| 3       | C      | 1.69  |\n",
       "+---------+--------+-------+\n",
       "| 4       | D      | 19.95 |\n",
       "+---------+--------+-------+"
      ]
     },
     "execution_count": 71,
     "metadata": {},
     "output_type": "execute_result"
    }
   ],
   "source": [
    "SELECT article, dealer, price\n",
    "FROM   shop s1\n",
    "WHERE  price=(SELECT MAX(s2.price)\n",
    "              FROM shop s2\n",
    "              WHERE s1.dealer = s2.dealer)\n",
    "ORDER BY article"
   ]
  },
  {
   "cell_type": "code",
   "execution_count": 76,
   "id": "2aa2d346",
   "metadata": {},
   "outputs": [
    {
     "data": {
      "text/html": [
       "<table>\n",
       "<tr>\n",
       "<th>article</th>\n",
       "<th>dealer</th>\n",
       "<th>price</th>\n",
       "<th>dealer</th>\n",
       "<th>price</th>\n",
       "</tr>\n",
       "<tr>\n",
       "<td>1</td>\n",
       "<td>B</td>\n",
       "<td>3.99</td>\n",
       "<td>B</td>\n",
       "<td>3.99</td>\n",
       "</tr>\n",
       "<tr>\n",
       "<td>2</td>\n",
       "<td>A</td>\n",
       "<td>10.99</td>\n",
       "<td>A</td>\n",
       "<td>10.99</td>\n",
       "</tr>\n",
       "<tr>\n",
       "<td>3</td>\n",
       "<td>C</td>\n",
       "<td>1.69</td>\n",
       "<td>C</td>\n",
       "<td>1.69</td>\n",
       "</tr>\n",
       "<tr>\n",
       "<td>4</td>\n",
       "<td>D</td>\n",
       "<td>19.95</td>\n",
       "<td>D</td>\n",
       "<td>19.95</td>\n",
       "</tr>\n",
       "<tr>\n",
       "<td>1</td>\n",
       "<td>D</td>\n",
       "<td>19.95</td>\n",
       "<td>D</td>\n",
       "<td>19.95</td>\n",
       "</tr>\n",
       "</table>"
      ],
      "text/plain": [
       "+---------+--------+-------+--------+-------+\n",
       "| article | dealer | price | dealer | price |\n",
       "+---------+--------+-------+--------+-------+\n",
       "| 1       | B      | 3.99  | B      | 3.99  |\n",
       "+---------+--------+-------+--------+-------+\n",
       "| 2       | A      | 10.99 | A      | 10.99 |\n",
       "+---------+--------+-------+--------+-------+\n",
       "| 3       | C      | 1.69  | C      | 1.69  |\n",
       "+---------+--------+-------+--------+-------+\n",
       "| 4       | D      | 19.95 | D      | 19.95 |\n",
       "+---------+--------+-------+--------+-------+\n",
       "| 1       | D      | 19.95 | D      | 19.95 |\n",
       "+---------+--------+-------+--------+-------+"
      ]
     },
     "execution_count": 76,
     "metadata": {},
     "output_type": "execute_result"
    }
   ],
   "source": [
    "SELECT * --s1.article, s1.dealer, s1.price\n",
    "FROM shop s1\n",
    "JOIN (\n",
    "  SELECT dealer, MAX(price) AS price\n",
    "  FROM shop\n",
    "  GROUP BY dealer) AS s2\n",
    "  ON s1.dealer = s2.dealer AND s1.price = s2.price\n",
    "--ORDER BY article;"
   ]
  },
  {
   "cell_type": "code",
   "execution_count": 72,
   "id": "4f4cc8e2",
   "metadata": {},
   "outputs": [
    {
     "data": {
      "text/html": [
       "<table>\n",
       "<tr>\n",
       "<th>article</th>\n",
       "<th>price</th>\n",
       "</tr>\n",
       "<tr>\n",
       "<td>1</td>\n",
       "<td>19.95</td>\n",
       "</tr>\n",
       "<tr>\n",
       "<td>2</td>\n",
       "<td>10.99</td>\n",
       "</tr>\n",
       "<tr>\n",
       "<td>3</td>\n",
       "<td>1.69</td>\n",
       "</tr>\n",
       "<tr>\n",
       "<td>4</td>\n",
       "<td>19.95</td>\n",
       "</tr>\n",
       "</table>"
      ],
      "text/plain": [
       "+---------+-------+\n",
       "| article | price |\n",
       "+---------+-------+\n",
       "| 1       | 19.95 |\n",
       "+---------+-------+\n",
       "| 2       | 10.99 |\n",
       "+---------+-------+\n",
       "| 3       | 1.69  |\n",
       "+---------+-------+\n",
       "| 4       | 19.95 |\n",
       "+---------+-------+"
      ]
     },
     "execution_count": 72,
     "metadata": {},
     "output_type": "execute_result"
    }
   ],
   "source": [
    "SELECT article, MAX(price) AS price\n",
    "  FROM shop\n",
    "  GROUP BY article"
   ]
  },
  {
   "cell_type": "code",
   "execution_count": 61,
   "id": "788b6a6e",
   "metadata": {},
   "outputs": [
    {
     "data": {
      "text/html": [
       "<table>\n",
       "<tr>\n",
       "<th>article</th>\n",
       "<th>dealer</th>\n",
       "<th>price</th>\n",
       "</tr>\n",
       "<tr>\n",
       "<td>1</td>\n",
       "<td>B</td>\n",
       "<td>3.99</td>\n",
       "</tr>\n",
       "<tr>\n",
       "<td>2</td>\n",
       "<td>A</td>\n",
       "<td>10.99</td>\n",
       "</tr>\n",
       "<tr>\n",
       "<td>3</td>\n",
       "<td>C</td>\n",
       "<td>1.69</td>\n",
       "</tr>\n",
       "<tr>\n",
       "<td>4</td>\n",
       "<td>D</td>\n",
       "<td>19.95</td>\n",
       "</tr>\n",
       "</table>"
      ],
      "text/plain": [
       "+---------+--------+-------+\n",
       "| article | dealer | price |\n",
       "+---------+--------+-------+\n",
       "| 1       | B      | 3.99  |\n",
       "+---------+--------+-------+\n",
       "| 2       | A      | 10.99 |\n",
       "+---------+--------+-------+\n",
       "| 3       | C      | 1.69  |\n",
       "+---------+--------+-------+\n",
       "| 4       | D      | 19.95 |\n",
       "+---------+--------+-------+"
      ]
     },
     "execution_count": 61,
     "metadata": {},
     "output_type": "execute_result"
    }
   ],
   "source": [
    "SELECT s1.article, s1.dealer, s1.price\n",
    "FROM shop s1\n",
    "LEFT JOIN shop s2 ON s1.dealer = s2.dealer AND s1.price < s2.price\n",
    "WHERE s2.article IS NULL\n",
    "ORDER BY s1.article;"
   ]
  },
  {
   "cell_type": "code",
   "execution_count": 60,
   "id": "ecb6d1e0",
   "metadata": {},
   "outputs": [
    {
     "data": {
      "text/html": [
       "<table>\n",
       "<tr>\n",
       "<th>article</th>\n",
       "<th>dealer</th>\n",
       "<th>price</th>\n",
       "<th>Rank</th>\n",
       "</tr>\n",
       "<tr>\n",
       "<td>1</td>\n",
       "<td>A</td>\n",
       "<td>3.99</td>\n",
       "<td>2</td>\n",
       "</tr>\n",
       "<tr>\n",
       "<td>1</td>\n",
       "<td>B</td>\n",
       "<td>3.99</td>\n",
       "<td>1</td>\n",
       "</tr>\n",
       "<tr>\n",
       "<td>2</td>\n",
       "<td>A</td>\n",
       "<td>10.99</td>\n",
       "<td>1</td>\n",
       "</tr>\n",
       "<tr>\n",
       "<td>3</td>\n",
       "<td>B</td>\n",
       "<td>1.45</td>\n",
       "<td>2</td>\n",
       "</tr>\n",
       "<tr>\n",
       "<td>3</td>\n",
       "<td>C</td>\n",
       "<td>1.69</td>\n",
       "<td>1</td>\n",
       "</tr>\n",
       "<tr>\n",
       "<td>3</td>\n",
       "<td>D</td>\n",
       "<td>1.25</td>\n",
       "<td>2</td>\n",
       "</tr>\n",
       "<tr>\n",
       "<td>4</td>\n",
       "<td>D</td>\n",
       "<td>19.95</td>\n",
       "<td>1</td>\n",
       "</tr>\n",
       "</table>"
      ],
      "text/plain": [
       "+---------+--------+-------+------+\n",
       "| article | dealer | price | Rank |\n",
       "+---------+--------+-------+------+\n",
       "| 1       | A      | 3.99  | 2    |\n",
       "+---------+--------+-------+------+\n",
       "| 1       | B      | 3.99  | 1    |\n",
       "+---------+--------+-------+------+\n",
       "| 2       | A      | 10.99 | 1    |\n",
       "+---------+--------+-------+------+\n",
       "| 3       | B      | 1.45  | 2    |\n",
       "+---------+--------+-------+------+\n",
       "| 3       | C      | 1.69  | 1    |\n",
       "+---------+--------+-------+------+\n",
       "| 3       | D      | 1.25  | 2    |\n",
       "+---------+--------+-------+------+\n",
       "| 4       | D      | 19.95 | 1    |\n",
       "+---------+--------+-------+------+"
      ]
     },
     "execution_count": 60,
     "metadata": {},
     "output_type": "execute_result"
    }
   ],
   "source": [
    "WITH s1 AS (\n",
    "   SELECT article, dealer, price,\n",
    "          RANK() OVER (PARTITION BY dealer\n",
    "                           ORDER BY price DESC\n",
    "                      ) AS `Rank`\n",
    "     FROM shop\n",
    ")\n",
    "SELECT article, dealer, price, Rank\n",
    "  FROM s1\n",
    "--  WHERE `Rank` = 1\n",
    "ORDER BY article;"
   ]
  }
 ],
 "metadata": {
  "kernelspec": {
   "display_name": "xsqlite",
   "language": "sqlite",
   "name": "xsqlite"
  },
  "language_info": {
   "codemirror_mode": "sql",
   "file_extension": "",
   "mimetype": "",
   "name": "sql",
   "version": "3.33.0"
  }
 },
 "nbformat": 4,
 "nbformat_minor": 5
}
