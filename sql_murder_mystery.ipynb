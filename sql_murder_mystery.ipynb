{
 "cells": [
  {
   "cell_type": "markdown",
   "id": "1c6ce891",
   "metadata": {},
   "source": [
    "Before beginning, we need to download database and pictures as well as install sqlite kernel into jupyter. Assuming conda is installed, run the following bash commands:\n",
    "\n",
    "```shell\n",
    "conda create -n 'sqlmm' ipython jupyter \n",
    "conda activate sqlmm\n",
    "conda install xeus-sqlite -c conda-forge\n",
    "\n",
    "curl https://mystery.knightlab.com/schema.png -o schema.png\n",
    "curl https://github.com/NUKnightLab/sql-mysteries/raw/master/sql-murder-mystery.db -o sql-murder-mystery.db\n",
    "```\n",
    "\n",
    "See\n",
    "- [SQL Murder Mystery interactive homepage](https://mystery.knightlab.com/)\n",
    "- [SQL Murder Mystery github page](https://github.com/NUKnightLab/sql-mysteries)\n",
    "- [Xues SQLite kernel for Jupyter Notebooks](https://blog.jupyter.org/a-jupyter-kernel-for-sqlite-9549c5dcf551)"
   ]
  },
  {
   "cell_type": "code",
   "execution_count": 1,
   "id": "b7ff4a32",
   "metadata": {},
   "outputs": [],
   "source": [
    "%LOAD sql-murder-mystery.db"
   ]
  },
  {
   "cell_type": "markdown",
   "id": "839d5fe5",
   "metadata": {},
   "source": [
    "# SQL Murder Mystery Prompt"
   ]
  },
  {
   "cell_type": "markdown",
   "id": "61456b5e",
   "metadata": {},
   "source": [
    "A crime has taken place and the detective needs your help. The detective gave you the crime scene report, but you somehow lost it. You vaguely remember that the crime was a *murder* that occurred sometime on *Jan.15, 2018* and that it took place in *SQL City*. Start by retrieving the corresponding crime scene report from the police department’s database. \n",
    "\n",
    "![schema.png](schema.png)"
   ]
  },
  {
   "cell_type": "markdown",
   "id": "e7b52195",
   "metadata": {},
   "source": [
    "### We know that ...\n",
    "\n",
    "- date **20180115**\n",
    "- city **SQL City**\n",
    "- type **murder**"
   ]
  },
  {
   "cell_type": "markdown",
   "id": "dcf835f9",
   "metadata": {},
   "source": [
    "## Crime report"
   ]
  },
  {
   "cell_type": "code",
   "execution_count": 2,
   "id": "df7be768",
   "metadata": {},
   "outputs": [
    {
     "data": {
      "text/html": [
       "<table>\n",
       "<tr>\n",
       "<th>date</th>\n",
       "<th>type</th>\n",
       "<th>description</th>\n",
       "<th>city</th>\n",
       "</tr>\n",
       "<tr>\n",
       "<td>20180115</td>\n",
       "<td>murder</td>\n",
       "<td>Security footage shows that there were 2 witnesses. The first witness lives at the last house on \"Northwestern Dr\". The second witness, named Annabel, lives somewhere on \"Franklin Ave\".</td>\n",
       "<td>SQL City</td>\n",
       "</tr>\n",
       "</table>"
      ],
      "text/plain": [
       "+----------+--------+-------------------------------------------------------------------------------------------------------------------------------------------------------------------------------------------+----------+\n",
       "| date     | type   | description                                                                                                                                                                               | city     |\n",
       "+----------+--------+-------------------------------------------------------------------------------------------------------------------------------------------------------------------------------------------+----------+\n",
       "| 20180115 | murder | Security footage shows that there were 2 witnesses. The first witness lives at the last house on \"Northwestern Dr\". The second witness, named Annabel, lives somewhere on \"Franklin Ave\". | SQL City |\n",
       "+----------+--------+-------------------------------------------------------------------------------------------------------------------------------------------------------------------------------------------+----------+"
      ]
     },
     "execution_count": 2,
     "metadata": {},
     "output_type": "execute_result"
    }
   ],
   "source": [
    "SELECT * \n",
    "FROM crime_scene_report\n",
    "WHERE date = '20180115'\n",
    "  AND type = 'murder'\n",
    "  AND city = 'SQL City'"
   ]
  },
  {
   "cell_type": "markdown",
   "id": "86d39173",
   "metadata": {},
   "source": [
    "### We know that ...\n",
    "\n",
    "Witness 1\n",
    "- last house on **Northwestern Dr**\n",
    "\n",
    "Witness 2\n",
    "- Name **Annabel**\n",
    "- Lives on **Franklin Ave**"
   ]
  },
  {
   "cell_type": "markdown",
   "id": "9ccbfcc4",
   "metadata": {},
   "source": [
    "## Witness transcripts"
   ]
  },
  {
   "cell_type": "code",
   "execution_count": 3,
   "id": "aad01161",
   "metadata": {},
   "outputs": [
    {
     "data": {
      "text/html": [
       "<table>\n",
       "<tr>\n",
       "<th>person_id</th>\n",
       "<th>transcript</th>\n",
       "<th>id</th>\n",
       "</tr>\n",
       "<tr>\n",
       "<td>14887</td>\n",
       "<td>I heard a gunshot and then saw a man run out. He had a \"Get Fit Now Gym\" bag. The membership number on the bag started with \"48Z\". Only gold members have those bags. The man got into a car with a plate that included \"H42W\".</td>\n",
       "<td>14887</td>\n",
       "</tr>\n",
       "<tr>\n",
       "<td>16371</td>\n",
       "<td>I saw the murder happen, and I recognized the killer from my gym when I was working out last week on January the 9th.</td>\n",
       "<td>16371</td>\n",
       "</tr>\n",
       "</table>"
      ],
      "text/plain": [
       "+-----------+---------------------------------------------------------------------------------------------------------------------------------------------------------------------------------------------------------------------------------+-------+\n",
       "| person_id | transcript                                                                                                                                                                                                                      | id    |\n",
       "+-----------+---------------------------------------------------------------------------------------------------------------------------------------------------------------------------------------------------------------------------------+-------+\n",
       "| 14887     | I heard a gunshot and then saw a man run out. He had a \"Get Fit Now Gym\" bag. The membership number on the bag started with \"48Z\". Only gold members have those bags. The man got into a car with a plate that included \"H42W\". | 14887 |\n",
       "+-----------+---------------------------------------------------------------------------------------------------------------------------------------------------------------------------------------------------------------------------------+-------+\n",
       "| 16371     | I saw the murder happen, and I recognized the killer from my gym when I was working out last week on January the 9th.                                                                                                           | 16371 |\n",
       "+-----------+---------------------------------------------------------------------------------------------------------------------------------------------------------------------------------------------------------------------------------+-------+"
      ]
     },
     "execution_count": 3,
     "metadata": {},
     "output_type": "execute_result"
    }
   ],
   "source": [
    "WITH witness1 as (\n",
    "  SELECT *\n",
    "  FROM person\n",
    "  WHERE \n",
    "      address_street_name = \"Franklin Ave\"\n",
    "  AND name like '%Annabel%'),\n",
    "witness2 as (\n",
    "  SELECT *\n",
    "  FROM person\n",
    "  WHERE address_street_name = \"Northwestern Dr\"\n",
    "  ORDER BY address_number DESC\n",
    "  LIMIT 1),\n",
    "witness_id as (\n",
    "  SELECT id FROM witness1\n",
    "  UNION\n",
    "  SELECT id FROM witness2\n",
    ")\n",
    "\n",
    "SELECT *\n",
    "FROM interview AS i\n",
    "JOIN witness_id AS w\n",
    "ON i.person_id = w.id"
   ]
  },
  {
   "cell_type": "markdown",
   "id": "d6ef884e",
   "metadata": {},
   "source": [
    "## We know that ...\n",
    "\n",
    "Suspect 1\n",
    "- membership number starts with **48Z**\n",
    "- is **gold** member\n",
    "- Licens plate include **H42W**\n",
    "\n",
    "Suspect 2\n",
    "- was at gym on **20180109**\n",
    "\n",
    "We don't know if suspects are the same person, but let's assume so."
   ]
  },
  {
   "cell_type": "markdown",
   "id": "c424131c",
   "metadata": {},
   "source": [
    "## Suspect interview"
   ]
  },
  {
   "cell_type": "code",
   "execution_count": 4,
   "id": "db3c0470",
   "metadata": {},
   "outputs": [
    {
     "data": {
      "text/html": [
       "<table>\n",
       "<tr>\n",
       "<th>name</th>\n",
       "<th>transcript</th>\n",
       "</tr>\n",
       "<tr>\n",
       "<td>Jeremy Bowers</td>\n",
       "<td>I was hired by a woman with a lot of money. I don't know her name but I know she's around 5'5\" (65\") or 5'7\" (67\"). She has red hair and she drives a Tesla Model S. I know that she attended the SQL Symphony Concert 3 times in December 2017.\n",
       "</td>\n",
       "</tr>\n",
       "</table>"
      ],
      "text/plain": [
       "+---------------+---------------------------------------------------------------------------------------------------------------------------------------------------------------------------------------------------------------------------------------------------+\n",
       "| name          | transcript                                                                                                                                                                                                                                        |\n",
       "+---------------+---------------------------------------------------------------------------------------------------------------------------------------------------------------------------------------------------------------------------------------------------+\n",
       "| Jeremy Bowers | I was hired by a woman with a lot of money. I don't know her name but I know she's around 5'5\" (65\") or 5'7\" (67\"). She has red hair and she drives a Tesla Model S. I know that she attended the SQL Symphony Concert 3 times in December 2017.  |\n",
       "+---------------+---------------------------------------------------------------------------------------------------------------------------------------------------------------------------------------------------------------------------------------------------+"
      ]
     },
     "execution_count": 4,
     "metadata": {},
     "output_type": "execute_result"
    }
   ],
   "source": [
    "WITH members_on_date_of_interest as (\n",
    "  SELECT DISTINCT membership_id \n",
    "  FROM get_fit_now_check_in\n",
    "  WHERE check_in_date = '20180109'\n",
    ")\n",
    "\n",
    "SELECT p.name, transcript\n",
    "FROM get_fit_now_member AS m\n",
    "JOIN members_on_date_of_interest AS c\n",
    "  ON c.membership_id = m.id \n",
    "JOIN interview AS i\n",
    "  ON p.id = i.person_id\n",
    "JOIN drivers_license AS d\n",
    "  ON p.license_id = d.id\n",
    "JOIN person AS p\n",
    "  ON m.person_id  = p.id\n",
    "WHERE\n",
    "      m.id like '48Z%'\n",
    "  AND m.membership_status = 'gold'\n",
    "  AND d.plate_number like '%H42W%'"
   ]
  },
  {
   "cell_type": "markdown",
   "id": "64c28b7e",
   "metadata": {},
   "source": [
    "## What we know so far\n",
    "\n",
    "- is **female**\n",
    "- is rich\n",
    "- between **65\"** and **67**\n",
    "- **red** hair\n",
    "- car is **Tesla Model S**\n",
    "- Attended **SQL Symphony Concert** 3 times in **201712**"
   ]
  },
  {
   "cell_type": "code",
   "execution_count": 5,
   "id": "187c6a56",
   "metadata": {},
   "outputs": [
    {
     "data": {
      "text/html": [
       "<table>\n",
       "<tr>\n",
       "<th>name</th>\n",
       "</tr>\n",
       "<tr>\n",
       "<td>Miranda Priestly</td>\n",
       "</tr>\n",
       "</table>"
      ],
      "text/plain": [
       "+------------------+\n",
       "| name             |\n",
       "+------------------+\n",
       "| Miranda Priestly |\n",
       "+------------------+"
      ]
     },
     "execution_count": 5,
     "metadata": {},
     "output_type": "execute_result"
    }
   ],
   "source": [
    "WITH suspects_in_drivers_license AS (\n",
    "    SELECT id\n",
    "    FROM drivers_license\n",
    "    WHERE\n",
    "              hair_color = 'red'\n",
    "          AND gender = 'female'\n",
    "          AND car_make = 'Tesla'\n",
    "          AND car_model = 'Model S'\n",
    "          AND height BETWEEN 65 AND 67\n",
    "), suspects_in_fb_event AS (\n",
    "    SELECT \n",
    "      person_id, \n",
    "      count() as event_count\n",
    "    FROM facebook_event_checkin\n",
    "    WHERE \n",
    "          event_name = 'SQL Symphony Concert'\n",
    "      AND date BETWEEN 20171200 AND 20171233\n",
    "    GROUP BY person_id\n",
    "    HAVING event_count = 3\n",
    ")\n",
    "\n",
    "SELECT p.name\n",
    "FROM person AS p\n",
    "JOIN suspects_in_fb_event AS e ON p.id = e.person_id\n",
    "JOIN suspects_in_drivers_license AS d ON p.license_id = d.id"
   ]
  }
 ],
 "metadata": {
  "kernelspec": {
   "display_name": "xsqlite",
   "language": "sqlite",
   "name": "xsqlite"
  },
  "language_info": {
   "codemirror_mode": "sql",
   "file_extension": "",
   "mimetype": "",
   "name": "sql",
   "version": "3.33.0"
  }
 },
 "nbformat": 4,
 "nbformat_minor": 5
}
